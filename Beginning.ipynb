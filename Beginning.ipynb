{
  "nbformat": 4,
  "nbformat_minor": 0,
  "metadata": {
    "colab": {
      "name": "Untitled0.ipynb",
      "provenance": [],
      "collapsed_sections": [],
      "authorship_tag": "ABX9TyNFxOfa5fcHHJe5FiXXmB++",
      "include_colab_link": true
    },
    "kernelspec": {
      "name": "python3",
      "display_name": "Python 3"
    }
  },
  "cells": [
    {
      "cell_type": "markdown",
      "metadata": {
        "id": "view-in-github",
        "colab_type": "text"
      },
      "source": [
        "<a href=\"https://colab.research.google.com/github/pm390/RecSys_AfterLesson_Notebooks/blob/master/Beginning.ipynb\" target=\"_parent\"><img src=\"https://colab.research.google.com/assets/colab-badge.svg\" alt=\"Open In Colab\"/></a>"
      ]
    },
    {
      "cell_type": "markdown",
      "metadata": {
        "id": "7RlbFsoh85GA"
      },
      "source": [
        "# Lesson 1 october 2020\n",
        "\n",
        "Let's start with imports needed for the lesson arguments\n"
      ]
    },
    {
      "cell_type": "code",
      "metadata": {
        "id": "W6GCDxFX8pWd"
      },
      "source": [
        "from numpy import *\n",
        "import numpy as np\n",
        "import scipy \n",
        "from scipy.sparse import *"
      ],
      "execution_count": 2,
      "outputs": []
    },
    {
      "cell_type": "markdown",
      "metadata": {
        "id": "8BHqULFnfUIS"
      },
      "source": [
        "only for readability of random floats"
      ]
    },
    {
      "cell_type": "code",
      "metadata": {
        "id": "g0wypSRjfTW6"
      },
      "source": [
        " import decimal\n",
        " decimal.getcontext().rounding = decimal.ROUND_DOWN"
      ],
      "execution_count": 3,
      "outputs": []
    },
    {
      "cell_type": "markdown",
      "metadata": {
        "id": "QIW8WMNzRXSd"
      },
      "source": [
        "Let's create a URM as a sparse matrix \n"
      ]
    },
    {
      "cell_type": "code",
      "metadata": {
        "id": "rZtrZ_9PRdJt",
        "outputId": "6d15ba50-3d56-45ff-8b12-6d2307bf74e3",
        "colab": {
          "base_uri": "https://localhost:8080/",
          "height": 550
        }
      },
      "source": [
        "M = lil_matrix((5,5))\n",
        "rng = np.random.default_rng()\n",
        "M[0,0]=1*round(decimal.Decimal(rng.random()),2)\n",
        "M[1,1]=1*round(decimal.Decimal(rng.random()),2)\n",
        "M[0,4]=1*round(decimal.Decimal(rng.random()),2)\n",
        "M[1,3]=1*round(decimal.Decimal(rng.random()),2)\n",
        "M[2,2]=1*round(decimal.Decimal(rng.random()),2)\n",
        "M[3,2]=1*round(decimal.Decimal(rng.random()),2)\n",
        "M[4,4]=1*round(decimal.Decimal(rng.random()),2)\n",
        "print(\"dense Version : \\n\",M.todense())\n",
        "print(\"sparse : \\n\",M)\n",
        "Mu=csr_matrix(M)\n",
        "Mi=csc_matrix(M)\n",
        "Mo=coo_matrix(M)\n",
        "print(\"sparse row:-----------------\",\"\\nindices : \",Mu.indices,\"\\nindptr : \",Mu.indptr,\"\\ndata : \",Mu.data)\n",
        "print(\"sparse column:--------------\",\"\\nindices : \",Mi.indices,\"\\nindptr : \",Mi.indptr,\"\\ndata : \",Mi.data)\n",
        "print(\"sparse coordinate:----------\",\"\\nrow :\",Mo.row,\"\\ncolumn : \",Mo.col,\"\\ndata : \",Mo.data)\n",
        "print(\"shapes\")\n",
        "print(\"Mu : \",Mu.shape)\n",
        "print(\"Mi : \",Mi.shape)\n",
        "print(\"Mo : \",Mo.shape)"
      ],
      "execution_count": 11,
      "outputs": [
        {
          "output_type": "stream",
          "text": [
            "dense Version : \n",
            " [[0.87 0.   0.   0.   0.02]\n",
            " [0.   0.11 0.   0.3  0.  ]\n",
            " [0.   0.   0.81 0.   0.  ]\n",
            " [0.   0.   0.52 0.   0.  ]\n",
            " [0.   0.   0.   0.   0.72]]\n",
            "sparse : \n",
            "   (0, 0)\t0.87\n",
            "  (0, 4)\t0.02\n",
            "  (1, 1)\t0.11\n",
            "  (1, 3)\t0.3\n",
            "  (2, 2)\t0.81\n",
            "  (3, 2)\t0.52\n",
            "  (4, 4)\t0.72\n",
            "sparse row:----------------- \n",
            "indices :  [0 4 1 3 2 2 4] \n",
            "indptr :  [0 2 4 5 6 7] \n",
            "data :  [0.87 0.02 0.11 0.3  0.81 0.52 0.72]\n",
            "sparse column:-------------- \n",
            "indices :  [0 1 2 3 1 0 4] \n",
            "indptr :  [0 1 2 4 5 7] \n",
            "data :  [0.87 0.11 0.81 0.52 0.3  0.02 0.72]\n",
            "sparse coordinate:---------- \n",
            "row : [0 0 1 1 2 3 4] \n",
            "column :  [0 4 1 3 2 2 4] \n",
            "data :  [0.87 0.02 0.11 0.3  0.81 0.52 0.72]\n",
            "shapes\n",
            "Mu :  (5, 5)\n",
            "Mi :  (5, 5)\n",
            "Mo :  (5, 5)\n"
          ],
          "name": "stdout"
        }
      ]
    },
    {
      "cell_type": "markdown",
      "metadata": {
        "id": "bereidxJTeX1"
      },
      "source": [
        "The columns are the items. The rows are the users.\n",
        "\n",
        "---\n",
        "Start with getting for each user his ratings\n",
        "\n"
      ]
    },
    {
      "cell_type": "code",
      "metadata": {
        "id": "QxwCrQYdYGTs",
        "outputId": "e250a76c-958f-4c4f-e354-38507ef741db",
        "colab": {
          "base_uri": "https://localhost:8080/",
          "height": 194
        }
      },
      "source": [
        "for i in range(Mu.shape[1]):\n",
        "  row_start = Mu.indptr[i]\n",
        "  row_end= Mu.indptr[i+1]\n",
        "  print(\"user\",i,\"ratings   : \" , Mu.data[row_start:row_end])\n",
        "  print(\"user\",i,\"items     : \" , Mu.indices[row_start:row_end])\n"
      ],
      "execution_count": 5,
      "outputs": [
        {
          "output_type": "stream",
          "text": [
            "user 0 ratings   :  [0.83 0.42]\n",
            "user 0 items     :  [0 4]\n",
            "user 1 ratings   :  [0.26 0.98]\n",
            "user 1 items     :  [1 3]\n",
            "user 2 ratings   :  [0.76]\n",
            "user 2 items     :  [2]\n",
            "user 3 ratings   :  [0.39]\n",
            "user 3 items     :  [2]\n",
            "user 4 ratings   :  [0.06]\n",
            "user 4 items     :  [4]\n"
          ],
          "name": "stdout"
        }
      ]
    },
    {
      "cell_type": "markdown",
      "metadata": {
        "id": "e3Me0Zs-bD46"
      },
      "source": [
        "Let's get for each item its ratings"
      ]
    },
    {
      "cell_type": "code",
      "metadata": {
        "id": "t5qSlMmnbDZj",
        "outputId": "d3c49777-f0d9-4a4a-ba20-8cfe2193dc9e",
        "colab": {
          "base_uri": "https://localhost:8080/",
          "height": 194
        }
      },
      "source": [
        "for i in range(Mi.shape[1]):\n",
        "  column_start = Mi.indptr[i]\n",
        "  column_end= Mi.indptr[i+1]\n",
        "  print(\"item\",i,\"ratings   : \" , Mi.data[column_start:column_end])\n",
        "  print(\"item\",i,\"users     : \" , Mi.indices[column_start:column_end])\n"
      ],
      "execution_count": 6,
      "outputs": [
        {
          "output_type": "stream",
          "text": [
            "item 0 ratings   :  [0.83]\n",
            "item 0 users     :  [0]\n",
            "item 1 ratings   :  [0.26]\n",
            "item 1 users     :  [1]\n",
            "item 2 ratings   :  [0.76 0.39]\n",
            "item 2 users     :  [2 3]\n",
            "item 3 ratings   :  [0.98]\n",
            "item 3 users     :  [1]\n",
            "item 4 ratings   :  [0.42 0.06]\n",
            "item 4 users     :  [0 4]\n"
          ],
          "name": "stdout"
        }
      ]
    },
    {
      "cell_type": "markdown",
      "metadata": {
        "id": "R0RIiq7nctFm"
      },
      "source": [
        "# Let's dive into Non personalized recommendations\n",
        "\n"
      ]
    },
    {
      "cell_type": "markdown",
      "metadata": {
        "id": "Mv9aMjr5c-TB"
      },
      "source": [
        "Top popular "
      ]
    },
    {
      "cell_type": "code",
      "metadata": {
        "id": "DWWkAS_pf-D5",
        "outputId": "cd80a5c7-ce8b-4bf0-d250-78c254349d09",
        "colab": {
          "base_uri": "https://localhost:8080/",
          "height": 34
        }
      },
      "source": [
        "Mi.sum(0)\n"
      ],
      "execution_count": 13,
      "outputs": [
        {
          "output_type": "execute_result",
          "data": {
            "text/plain": [
              "matrix([[0.87, 0.11, 1.33, 0.3 , 0.74]])"
            ]
          },
          "metadata": {
            "tags": []
          },
          "execution_count": 13
        }
      ]
    }
  ]
}